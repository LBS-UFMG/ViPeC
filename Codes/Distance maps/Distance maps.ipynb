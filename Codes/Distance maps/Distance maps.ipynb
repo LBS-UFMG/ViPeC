{
 "cells": [
  {
   "attachments": {
    "Sem%20t%C3%ADtulo.png": {
     "image/png": "[encoded data removed]"
    }
   },
   "cell_type": "markdown",
   "id": "ec543ddd",
   "metadata": {},
   "source": [
    "![Sem%20t%C3%ADtulo.png](attachment:Sem%20t%C3%ADtulo.png)"
   ]
  },
  {
   "cell_type": "markdown",
   "id": "f4a33b94",
   "metadata": {},
   "source": [
    "Federal University of Minas Gerais\n",
    "\n",
    "Department of Computer Science\n",
    "\n",
    "[Bioinformatics and Systems Laboratory](http://bioinfo.dcc.ufmg.br/)\n",
    "\n",
    "Authors: Lucas Moraes, Diego Mariano and Prof. Dr. Raquel Cardoso de Melo-Minardi"
   ]
  },
  {
   "cell_type": "code",
   "execution_count": 1,
   "id": "71e67e01",
   "metadata": {},
   "outputs": [],
   "source": [
    "dir_base = \"./\""
   ]
  },
  {
   "cell_type": "code",
   "execution_count": 2,
   "id": "a93d3d68",
   "metadata": {},
   "outputs": [],
   "source": [
    "# Importing libraries\n",
    "import os, shutil\n",
    "from os import listdir, mkdir\n",
    "from Bio import PDB\n",
    "import numpy as np\n",
    "import pandas as pd\n",
    "import matplotlib.pyplot as plt"
   ]
  },
  {
   "cell_type": "code",
   "execution_count": 3,
   "id": "7ad1e07e",
   "metadata": {},
   "outputs": [],
   "source": [
    "def distance_maps(chain_coordinates, peptide_class, pdb_file):\n",
    "    \"\"\"\n",
    "    Generate and save a distance map from protein and peptide coordinates.\n",
    "    \n",
    "    Parameters:\n",
    "    - chain_coordinates: Dictionary containing the coordinates of the chains.\n",
    "    - peptide_class: Classification of the peptide used for directory structuring.\n",
    "    - pdb_file: The filename of the PDB structure being processed.\n",
    "    \n",
    "    This function calculates the Euclidean distance between each peptide residue\n",
    "    and each protein atom, saving the resulting matrices as an distance map.\n",
    "    \"\"\"\n",
    "    \n",
    "    filename = pdb_file.split('.')[0]\n",
    "    \n",
    "    # Get the protein and peptide coordinates using slicing\n",
    "    _, coords_prot = list(chain_coordinates.items())[0]\n",
    "    _, coords_pep = list(chain_coordinates.items())[1]\n",
    "    peptide_size = np.shape(coords_pep)[0]\n",
    "    interface_size = np.shape(coords_prot)[0]\n",
    "    \n",
    "    # protein-peptide interaction map\n",
    "    m = np.zeros(shape=(peptide_size, interface_size))\n",
    "    i = 0\n",
    "    for a in coords_pep:\n",
    "        m[i] = list(map(lambda b: np.linalg.norm(a-b), coords_prot))\n",
    "        i += 1\n",
    "\n",
    "    if not os.path.isdir(dir_base+'Pep-PI maps/'+peptide_class):\n",
    "        mkdir(dir_base+'Pep-PI maps/'+peptide_class)\n",
    "\n",
    "    plt.imsave(dir_base+'Pep-PI maps/'+peptide_class+'/'+filename+'.png', m, cmap='plasma', origin='lower')"
   ]
  },
  {
   "cell_type": "code",
   "execution_count": null,
   "id": "eefa26fb",
   "metadata": {},
   "outputs": [],
   "source": [
    "def create_dataset_sequencias():\n",
    "    \"\"\"\n",
    "    This function reads a CSV file containing experimental data, extracts the labels relating to the peptide classes,\n",
    "    and reorganizes the PDBs into categorized directories.\n",
    "    \"\"\"\n",
    "    \n",
    "    interfaces_dir = os.path.join(dir_base, 'interface')\n",
    "    interfaces = listdir(interfaces_dir)\n",
    "    df = pd.read_csv(os.path.join(dir_base, 'experimental_data_1_cutoff_0_2_max_20.csv'))\n",
    "\n",
    "    for i in range(df.shape[0]):\n",
    "        classe = df.iloc[i, 0].split('/')[1]\n",
    "        peptideo = os.path.splitext(df.iloc[i, 0].split('/')[2])[0]\n",
    "        interface_class_dir = os.path.join(dir_base, 'sequence-clusters', classe)\n",
    "        if not os.path.exists(interface_class_dir):\n",
    "            os.mkdir(interface_class_dir)\n",
    "\n",
    "        files = list(filter(lambda x: peptideo in x, interfaces))\n",
    "        for f in files:\n",
    "            if os.path.isfile(os.path.join(dir_base, 'interface', f)):\n",
    "                shutil.move(os.path.join(dir_base, 'interface', f), os.path.join(dir_base, 'sequence-clusters', classe, f))\n",
    "                interfaces.remove(f)"
   ]
  },
  {
   "cell_type": "code",
   "execution_count": 4,
   "id": "48dda70b",
   "metadata": {},
   "outputs": [],
   "source": [
    "def create_dataset_subclasses():\n",
    "    \"\"\"\n",
    "    This function reads a CSV file containing experimental data, extracts the labels relating to the peptide classes,\n",
    "    and reorganizes the PDBs into categorized directories.\n",
    "    \"\"\"\n",
    "    \n",
    "    interfaces_dir = os.path.join(dir_base, 'interface')\n",
    "    interfaces = listdir(interfaces_dir)\n",
    "    df = pd.read_csv(os.path.join(dir_base, 'experimental_data_2_cutoff_0_2_max_20.csv'))\n",
    "\n",
    "    for i in range(df.shape[0]):\n",
    "        classe = df['cluster'][i]\n",
    "        peptideo = df['peptide'][i].split(' ')[1].replace('(', '').replace(')', '').replace(':', '_')\n",
    "        interface_class_dir = os.path.join(dir_base, 'subclasses-clusters', classe)\n",
    "        if not os.path.exists(interface_class_dir):\n",
    "            os.mkdir(interface_class_dir)\n",
    "\n",
    "        files = list(filter(lambda x: peptideo in x, interfaces))\n",
    "        for f in files:\n",
    "            if os.path.isfile(os.path.join(dir_base, 'interface', f)):\n",
    "                shutil.move(os.path.join(dir_base, 'interface', f), os.path.join(dir_base, 'subclasses-clusters', classe, f))\n",
    "                interfaces.remove(f)"
   ]
  },
  {
   "cell_type": "code",
   "execution_count": 5,
   "id": "5575939e",
   "metadata": {},
   "outputs": [],
   "source": [
    "create_dataset_subclasses()"
   ]
  },
  {
   "cell_type": "code",
   "execution_count": 9,
   "id": "bd09734d",
   "metadata": {
    "scrolled": false
   },
   "outputs": [],
   "source": [
    "from Bio import PDB\n",
    "\n",
    "# Create a PDB parser\n",
    "parser = PDB.PDBParser(QUIET=True)\n",
    "\n",
    "# Check if the base directory exists\n",
    "if not os.path.exists(dir_base):\n",
    "    raise FileNotFoundError(f\"The base directory {dir_base} does not exist\")\n",
    "\n",
    "interfaces_dir = os.path.join(dir_base, \"Sub-categorias\")\n",
    "\n",
    "# Check if the interfaces directory exists\n",
    "if not os.path.exists(interfaces_dir):\n",
    "    raise FileNotFoundError(f\"The interfaces directory {interfaces_dir} does not exist\")\n",
    "\n",
    "for peptide_class in os.listdir(interfaces_dir):\n",
    "    dir_path = os.path.join(interfaces_dir, peptide_class)\n",
    "\n",
    "    # Check if the peptide class directory exists\n",
    "    if not os.path.exists(dir_path):\n",
    "        print(f\"Directory {dir_path} does not exist\")\n",
    "        continue\n",
    "\n",
    "    for pdb in os.listdir(dir_path):\n",
    "        pdb_file_path = os.path.join(dir_path, pdb)\n",
    "\n",
    "        try:\n",
    "            structure = parser.get_structure(\"PDBStructure\", pdb_file_path)\n",
    "        except Exception as e:\n",
    "            print(f\"Failed to parse {pdb_file_path}: {e}\")\n",
    "            continue\n",
    "            \n",
    "        chain_coordinates = {}\n",
    "        for model in structure:\n",
    "            for chain in model:\n",
    "                chain_id = chain.id\n",
    "                if chain_id not in chain_coordinates:\n",
    "                    chain_coordinates[chain_id] = []\n",
    "\n",
    "                for residue in chain:\n",
    "                    for atom in residue:\n",
    "                        chain_coordinates[chain_id].append(atom.get_coord())\n",
    "\n",
    "        # Convert lists of coordinates to NumPy arrays\n",
    "        for chain_id in chain_coordinates:\n",
    "            chain_coordinates[chain_id] = np.array(chain_coordinates[chain_id])\n",
    "\n",
    "        distance_maps(chain_coordinates, peptide_class, pdb)"
   ]
  }
 ],
 "metadata": {
  "kernelspec": {
   "display_name": "Python 3 (ipykernel)",
   "language": "python",
   "name": "python3"
  },
  "language_info": {
   "codemirror_mode": {
    "name": "ipython",
    "version": 3
   },
   "file_extension": ".py",
   "mimetype": "text/x-python",
   "name": "python",
   "nbconvert_exporter": "python",
   "pygments_lexer": "ipython3",
   "version": "3.9.13"
  }
 },
 "nbformat": 4,
 "nbformat_minor": 5
}
